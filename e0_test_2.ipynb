{
 "cells": [
  {
   "cell_type": "code",
   "execution_count": 1,
   "metadata": {},
   "outputs": [],
   "source": [
    "# Import packages\n",
    "import f2s\n",
    "from matplotlib.pyplot import figure\n",
    "import local_difference\n",
    "from wmark import WaterMark\n",
    "\n",
    "# Setup wmark object\n",
    "wmark = WaterMark(5)"
   ]
  },
  {
   "cell_type": "code",
   "execution_count": 4,
   "metadata": {},
   "outputs": [
    {
     "data": {
      "image/png": "[encoded data removed]",
      "text/plain": [
       "<Figure size 360x360 with 2 Axes>"
      ]
     },
     "metadata": {
      "needs_background": "light"
     },
     "output_type": "display_data"
    }
   ],
   "source": [
    "# Get fourier and spatial domain\n",
    "figure(figsize = (5, 5))\n",
    "fourier, spatial = f2s.f2s(100, 0, 'YES')"
   ]
  },
  {
   "cell_type": "code",
   "execution_count": 5,
   "metadata": {},
   "outputs": [
    {
     "name": "stdout",
     "output_type": "stream",
     "text": [
      "Mark embedded...\n",
      "Decoding done...\n",
      "Watermark is detected: True, with a 0.32 correlation.\n",
      "Activity is: 0.00309\n"
     ]
    }
   ],
   "source": [
    "marked, freq_mag = wmark.embedMark(spatial, factor = 500)\n",
    "print(f\"Mark embedded...\")\n",
    "\n",
    "decoder = wmark.decodeMark(marked, 'CORR')\n",
    "print(f\"Decoding done...\")\n",
    "\n",
    "decision = wmark.detectOutlier(marked, 'CORR', alpha = 0.0001)\n",
    "print(f\"Watermark is detected: {decision}, with a {round(decoder, 2)} correlation.\")\n",
    "\n",
    "diff = local_difference.local_activity(spatial, kernel_size = 5)\n",
    "print(f\"Activity is: {round(diff, 5)}\")"
   ]
  },
  {
   "cell_type": "code",
   "execution_count": 6,
   "metadata": {},
   "outputs": [
    {
     "data": {
      "image/png": "[encoded data removed]",
      "text/plain": [
       "<Figure size 360x360 with 2 Axes>"
      ]
     },
     "metadata": {
      "needs_background": "light"
     },
     "output_type": "display_data"
    }
   ],
   "source": [
    "# Get fourier and spatial domain\n",
    "figure(figsize = (5, 5))\n",
    "fourier, spatial = f2s.f2s(10, 0, 'YES')"
   ]
  },
  {
   "cell_type": "code",
   "execution_count": 7,
   "metadata": {},
   "outputs": [
    {
     "name": "stdout",
     "output_type": "stream",
     "text": [
      "Mark embedded...\n",
      "Decoding done...\n",
      "Watermark is detected: True, with a 0.77 correlation.\n",
      "Activity is: 0.24954\n"
     ]
    }
   ],
   "source": [
    "marked, freq_mag = wmark.embedMark(spatial, factor = 500)\n",
    "print(f\"Mark embedded...\")\n",
    "\n",
    "decoder = wmark.decodeMark(marked, 'CORR')\n",
    "print(f\"Decoding done...\")\n",
    "\n",
    "decision = wmark.detectOutlier(marked, 'CORR', alpha = 0.0001)\n",
    "print(f\"Watermark is detected: {decision}, with a {round(decoder, 2)} correlation.\")\n",
    "\n",
    "diff = local_difference.local_activity(spatial, kernel_size = 5)\n",
    "print(f\"Activity is: {round(diff, 5)}\")"
   ]
  }
 ],
 "metadata": {
  "kernelspec": {
   "display_name": "Python 3.8.1 ('wmgcr')",
   "language": "python",
   "name": "python3"
  },
  "language_info": {
   "codemirror_mode": {
    "name": "ipython",
    "version": 3
   },
   "file_extension": ".py",
   "mimetype": "text/x-python",
   "name": "python",
   "nbconvert_exporter": "python",
   "pygments_lexer": "ipython3",
   "version": "3.8.1"
  },
  "orig_nbformat": 4,
  "vscode": {
   "interpreter": {
    "hash": "d8b06852a014c0279882fc183bb01c9b16ed2c58059f2e43a33b346855e44c50"
   }
  }
 },
 "nbformat": 4,
 "nbformat_minor": 2
}
